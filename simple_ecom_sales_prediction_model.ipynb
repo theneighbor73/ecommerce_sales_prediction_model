{
 "cells": [
  {
   "cell_type": "markdown",
   "metadata": {},
   "source": [
    "## Load libraries"
   ]
  },
  {
   "cell_type": "code",
   "execution_count": 6,
   "metadata": {},
   "outputs": [],
   "source": [
    "import pandas as pd # load and manipulate data\n",
    "import numpy as np # calculation\n",
    "import matplotlib.pyplot as plt # visualize data\n",
    "from sklearn.preprocessing import OneHotEncoder # To one-hot encode variables\n",
    "import category_encoders as ce # To target encode high cardinality variables\n",
    "from datetime import datetime\n",
    "# to build the model\n",
    "import xgboost as xgb\n",
    "from xgboost import XGBRegressor"
   ]
  },
  {
   "cell_type": "markdown",
   "metadata": {},
   "source": [
    "## Load raw dataset"
   ]
  },
  {
   "cell_type": "code",
   "execution_count": 7,
   "metadata": {},
   "outputs": [],
   "source": [
    "demand = pd.read_csv('shopee_raw_data.csv')"
   ]
  },
  {
   "cell_type": "code",
   "execution_count": 8,
   "metadata": {},
   "outputs": [
    {
     "name": "stdout",
     "output_type": "stream",
     "text": [
      "             date   product_id  \\\n",
      "0        5/1/2024   3388329772   \n",
      "1        5/2/2024   3388329772   \n",
      "2        5/3/2024   3388329772   \n",
      "3        5/4/2024   3388329772   \n",
      "4        5/5/2024   3388329772   \n",
      "...           ...          ...   \n",
      "28671  11/26/2024  29205241595   \n",
      "28672  11/27/2024  29205241595   \n",
      "28673  11/28/2024  29205241595   \n",
      "28674  11/29/2024  29205241595   \n",
      "28675  11/30/2024  29205241595   \n",
      "\n",
      "                                            product_name  \\\n",
      "0      c962b314933a9aa88002ec3c338e9a94bbd37353af8ca5...   \n",
      "1      c962b314933a9aa88002ec3c338e9a94bbd37353af8ca5...   \n",
      "2      c962b314933a9aa88002ec3c338e9a94bbd37353af8ca5...   \n",
      "3      c962b314933a9aa88002ec3c338e9a94bbd37353af8ca5...   \n",
      "4      c962b314933a9aa88002ec3c338e9a94bbd37353af8ca5...   \n",
      "...                                                  ...   \n",
      "28671  775ce3acc1e2742ef1b81ee8f23d3250b6932fbd2869de...   \n",
      "28672  775ce3acc1e2742ef1b81ee8f23d3250b6932fbd2869de...   \n",
      "28673  775ce3acc1e2742ef1b81ee8f23d3250b6932fbd2869de...   \n",
      "28674  775ce3acc1e2742ef1b81ee8f23d3250b6932fbd2869de...   \n",
      "28675  775ce3acc1e2742ef1b81ee8f23d3250b6932fbd2869de...   \n",
      "\n",
      "                                        product_category  \\\n",
      "0      a44f96f2ae1f169df61a6ca60bda9010eeb3d754eaff98...   \n",
      "1      a44f96f2ae1f169df61a6ca60bda9010eeb3d754eaff98...   \n",
      "2      a44f96f2ae1f169df61a6ca60bda9010eeb3d754eaff98...   \n",
      "3      a44f96f2ae1f169df61a6ca60bda9010eeb3d754eaff98...   \n",
      "4      a44f96f2ae1f169df61a6ca60bda9010eeb3d754eaff98...   \n",
      "...                                                  ...   \n",
      "28671  fada1c9427b6317c6f699436c31e2394132509fcc8524b...   \n",
      "28672  fada1c9427b6317c6f699436c31e2394132509fcc8524b...   \n",
      "28673  fada1c9427b6317c6f699436c31e2394132509fcc8524b...   \n",
      "28674  fada1c9427b6317c6f699436c31e2394132509fcc8524b...   \n",
      "28675  fada1c9427b6317c6f699436c31e2394132509fcc8524b...   \n",
      "\n",
      "                                                   brand  traffic  \\\n",
      "0      0c11971ede300e8f8c3b1ce00d14d47474c4ef0206a9fd...        0   \n",
      "1      0c11971ede300e8f8c3b1ce00d14d47474c4ef0206a9fd...        0   \n",
      "2      0c11971ede300e8f8c3b1ce00d14d47474c4ef0206a9fd...        0   \n",
      "3      0c11971ede300e8f8c3b1ce00d14d47474c4ef0206a9fd...        0   \n",
      "4      0c11971ede300e8f8c3b1ce00d14d47474c4ef0206a9fd...        0   \n",
      "...                                                  ...      ...   \n",
      "28671  0c11971ede300e8f8c3b1ce00d14d47474c4ef0206a9fd...        1   \n",
      "28672  0c11971ede300e8f8c3b1ce00d14d47474c4ef0206a9fd...        0   \n",
      "28673  0c11971ede300e8f8c3b1ce00d14d47474c4ef0206a9fd...        2   \n",
      "28674  0c11971ede300e8f8c3b1ce00d14d47474c4ef0206a9fd...        0   \n",
      "28675  0c11971ede300e8f8c3b1ce00d14d47474c4ef0206a9fd...        3   \n",
      "\n",
      "       impressions  payment  revenue  product_ad_spend  ...  product_rating  \\\n",
      "0                0        0        0                 0  ...             4.8   \n",
      "1                0        0        0                 0  ...             4.8   \n",
      "2                0        0        0                 0  ...             4.8   \n",
      "3                0        0        0                 0  ...             4.8   \n",
      "4                0        0        0                 0  ...             4.8   \n",
      "...            ...      ...      ...               ...  ...             ...   \n",
      "28671            3        0        0                 0  ...             5.0   \n",
      "28672            0        0        0                 0  ...             5.0   \n",
      "28673            6        0        0                 0  ...             5.0   \n",
      "28674            0        0        0                 0  ...             5.0   \n",
      "28675            6        0        0                 0  ...             5.0   \n",
      "\n",
      "       high_rating  high_discount  high_comment  avg_category_rate  \\\n",
      "0                1              0             1                4.9   \n",
      "1                1              0             1                4.9   \n",
      "2                1              0             1                4.9   \n",
      "3                1              0             1                4.9   \n",
      "4                1              0             1                4.9   \n",
      "...            ...            ...           ...                ...   \n",
      "28671            1              1             0                4.9   \n",
      "28672            1              1             0                4.9   \n",
      "28673            1              1             0                4.9   \n",
      "28674            1              1             0                4.9   \n",
      "28675            1              1             0                4.9   \n",
      "\n",
      "       avg_category_comment  week_of_month  wday  day_of_year  conversion_rate  \n",
      "0                        31              1     3          122              0.0  \n",
      "1                        31              1     4          123              0.0  \n",
      "2                        31              1     5          124              0.0  \n",
      "3                        31              1     6          125              0.0  \n",
      "4                        31              1     7          126              0.0  \n",
      "...                     ...            ...   ...          ...              ...  \n",
      "28671                    11              5     2          331              0.0  \n",
      "28672                    11              5     3          332              0.0  \n",
      "28673                    11              5     4          333              0.0  \n",
      "28674                    11              5     5          334              0.0  \n",
      "28675                    11              5     6          335              0.0  \n",
      "\n",
      "[28676 rows x 41 columns]\n"
     ]
    }
   ],
   "source": [
    "### Ensure data privacy\n",
    "import hashlib\n",
    "\n",
    "def hash_value(value):\n",
    "    return hashlib.sha256(value.encode()).hexdigest()\n",
    "\n",
    "demand['product_name'] = demand['product_name'].apply(lambda x: hash_value(x))\n",
    "demand['product_category'] = demand['product_category'].apply(lambda x: hash_value(x))\n",
    "demand['brand'] = demand['brand'].apply(lambda x: hash_value(x))\n",
    "\n",
    "print(demand)"
   ]
  },
  {
   "cell_type": "code",
   "execution_count": 9,
   "metadata": {},
   "outputs": [],
   "source": [
    "demand.to_csv('shopee_raw.csv')"
   ]
  },
  {
   "cell_type": "markdown",
   "metadata": {},
   "source": [
    "## Overview"
   ]
  },
  {
   "cell_type": "code",
   "execution_count": 10,
   "metadata": {},
   "outputs": [
    {
     "name": "stdout",
     "output_type": "stream",
     "text": [
      "       date  product_id                                                      product_name                                                  product_category                                                             brand  traffic  impressions  payment  revenue  product_ad_spend  shop_ad_spend  auto_ad_spend  run_shop_ad  run_product_ad  product_page_bounce_count  traffic_from_search  wm_yr_wk  month  d  doubleday  near_dday  end_of_month  weekend  other_commercial_sale  day_offs  avg_price  promotion_on  promotion_price price_bin discount_rate  comment_received  product_rating  high_rating  high_discount  high_comment  avg_category_rate  avg_category_comment  week_of_month  wday  day_of_year  conversion_rate\n",
      "0  5/1/2024  3388329772  c962b314933a9aa88002ec3c338e9a94bbd37353af8ca51da671406aa96ebf95  a44f96f2ae1f169df61a6ca60bda9010eeb3d754eaff98291d89a7d486a46905  0c11971ede300e8f8c3b1ce00d14d47474c4ef0206a9fd9532bbb462ab06916b        0            0        0        0                 0             67          30000            1               1                          0                    0    202417      5  1          0          0             0        0                      0         1    1166400             0          1166400     cheap            0%                45             4.8            1              0             1                4.9                    31              1     3          122              0.0\n",
      "1  5/2/2024  3388329772  c962b314933a9aa88002ec3c338e9a94bbd37353af8ca51da671406aa96ebf95  a44f96f2ae1f169df61a6ca60bda9010eeb3d754eaff98291d89a7d486a46905  0c11971ede300e8f8c3b1ce00d14d47474c4ef0206a9fd9532bbb462ab06916b        0            0        0        0                 0           5089          30000            1               1                          0                    0    202417      5  2          0          0             0        0                      0         0    1166400             0          1166400     cheap            0%                45             4.8            1              0             1                4.9                    31              1     4          123              0.0\n",
      "2  5/3/2024  3388329772  c962b314933a9aa88002ec3c338e9a94bbd37353af8ca51da671406aa96ebf95  a44f96f2ae1f169df61a6ca60bda9010eeb3d754eaff98291d89a7d486a46905  0c11971ede300e8f8c3b1ce00d14d47474c4ef0206a9fd9532bbb462ab06916b        0            0        0        0                 0           8849          30000            1               1                          0                    0    202417      5  3          0          0             0        0                      0         0    1166400             0          1166400     cheap            0%                45             4.8            1              0             1                4.9                    31              1     5          124              0.0\n",
      "3  5/4/2024  3388329772  c962b314933a9aa88002ec3c338e9a94bbd37353af8ca51da671406aa96ebf95  a44f96f2ae1f169df61a6ca60bda9010eeb3d754eaff98291d89a7d486a46905  0c11971ede300e8f8c3b1ce00d14d47474c4ef0206a9fd9532bbb462ab06916b        0            0        0        0                 0          11675          30000            1               1                          0                    0    202417      5  4          0          1             0        1                      0         0    1166400             0          1166400     cheap            0%                45             4.8            1              0             1                4.9                    31              1     6          125              0.0\n",
      "4  5/5/2024  3388329772  c962b314933a9aa88002ec3c338e9a94bbd37353af8ca51da671406aa96ebf95  a44f96f2ae1f169df61a6ca60bda9010eeb3d754eaff98291d89a7d486a46905  0c11971ede300e8f8c3b1ce00d14d47474c4ef0206a9fd9532bbb462ab06916b        0            0        0        0                 0          19085          25000            1               1                          0                    0    202418      5  5          1          0             0        1                      0         0    1166400             0          1166400     cheap            0%                45             4.8            1              0             1                4.9                    31              1     7          126              0.0\n"
     ]
    }
   ],
   "source": [
    "print(demand.head().to_string())"
   ]
  },
  {
   "cell_type": "code",
   "execution_count": 11,
   "metadata": {},
   "outputs": [
    {
     "data": {
      "text/html": [
       "<div>\n",
       "<style scoped>\n",
       "    .dataframe tbody tr th:only-of-type {\n",
       "        vertical-align: middle;\n",
       "    }\n",
       "\n",
       "    .dataframe tbody tr th {\n",
       "        vertical-align: top;\n",
       "    }\n",
       "\n",
       "    .dataframe thead th {\n",
       "        text-align: right;\n",
       "    }\n",
       "</style>\n",
       "<table border=\"1\" class=\"dataframe\">\n",
       "  <thead>\n",
       "    <tr style=\"text-align: right;\">\n",
       "      <th></th>\n",
       "      <th>Column Name</th>\n",
       "      <th>Unique Value Count</th>\n",
       "    </tr>\n",
       "  </thead>\n",
       "  <tbody>\n",
       "    <tr>\n",
       "      <th>0</th>\n",
       "      <td>date</td>\n",
       "      <td>214</td>\n",
       "    </tr>\n",
       "    <tr>\n",
       "      <th>1</th>\n",
       "      <td>product_id</td>\n",
       "      <td>131</td>\n",
       "    </tr>\n",
       "    <tr>\n",
       "      <th>2</th>\n",
       "      <td>product_name</td>\n",
       "      <td>133</td>\n",
       "    </tr>\n",
       "    <tr>\n",
       "      <th>3</th>\n",
       "      <td>product_category</td>\n",
       "      <td>20</td>\n",
       "    </tr>\n",
       "    <tr>\n",
       "      <th>4</th>\n",
       "      <td>brand</td>\n",
       "      <td>13</td>\n",
       "    </tr>\n",
       "    <tr>\n",
       "      <th>5</th>\n",
       "      <td>traffic</td>\n",
       "      <td>56</td>\n",
       "    </tr>\n",
       "    <tr>\n",
       "      <th>6</th>\n",
       "      <td>impressions</td>\n",
       "      <td>97</td>\n",
       "    </tr>\n",
       "    <tr>\n",
       "      <th>7</th>\n",
       "      <td>payment</td>\n",
       "      <td>12</td>\n",
       "    </tr>\n",
       "    <tr>\n",
       "      <th>8</th>\n",
       "      <td>revenue</td>\n",
       "      <td>1185</td>\n",
       "    </tr>\n",
       "    <tr>\n",
       "      <th>9</th>\n",
       "      <td>product_ad_spend</td>\n",
       "      <td>567</td>\n",
       "    </tr>\n",
       "    <tr>\n",
       "      <th>10</th>\n",
       "      <td>shop_ad_spend</td>\n",
       "      <td>161</td>\n",
       "    </tr>\n",
       "    <tr>\n",
       "      <th>11</th>\n",
       "      <td>auto_ad_spend</td>\n",
       "      <td>9</td>\n",
       "    </tr>\n",
       "    <tr>\n",
       "      <th>12</th>\n",
       "      <td>run_shop_ad</td>\n",
       "      <td>2</td>\n",
       "    </tr>\n",
       "    <tr>\n",
       "      <th>13</th>\n",
       "      <td>run_product_ad</td>\n",
       "      <td>2</td>\n",
       "    </tr>\n",
       "    <tr>\n",
       "      <th>14</th>\n",
       "      <td>product_page_bounce_count</td>\n",
       "      <td>20</td>\n",
       "    </tr>\n",
       "    <tr>\n",
       "      <th>15</th>\n",
       "      <td>traffic_from_search</td>\n",
       "      <td>36</td>\n",
       "    </tr>\n",
       "    <tr>\n",
       "      <th>16</th>\n",
       "      <td>wm_yr_wk</td>\n",
       "      <td>31</td>\n",
       "    </tr>\n",
       "    <tr>\n",
       "      <th>17</th>\n",
       "      <td>month</td>\n",
       "      <td>7</td>\n",
       "    </tr>\n",
       "    <tr>\n",
       "      <th>18</th>\n",
       "      <td>d</td>\n",
       "      <td>214</td>\n",
       "    </tr>\n",
       "    <tr>\n",
       "      <th>19</th>\n",
       "      <td>doubleday</td>\n",
       "      <td>2</td>\n",
       "    </tr>\n",
       "    <tr>\n",
       "      <th>20</th>\n",
       "      <td>near_dday</td>\n",
       "      <td>2</td>\n",
       "    </tr>\n",
       "    <tr>\n",
       "      <th>21</th>\n",
       "      <td>end_of_month</td>\n",
       "      <td>2</td>\n",
       "    </tr>\n",
       "    <tr>\n",
       "      <th>22</th>\n",
       "      <td>weekend</td>\n",
       "      <td>2</td>\n",
       "    </tr>\n",
       "    <tr>\n",
       "      <th>23</th>\n",
       "      <td>other_commercial_sale</td>\n",
       "      <td>2</td>\n",
       "    </tr>\n",
       "    <tr>\n",
       "      <th>24</th>\n",
       "      <td>day_offs</td>\n",
       "      <td>2</td>\n",
       "    </tr>\n",
       "    <tr>\n",
       "      <th>25</th>\n",
       "      <td>avg_price</td>\n",
       "      <td>84</td>\n",
       "    </tr>\n",
       "    <tr>\n",
       "      <th>26</th>\n",
       "      <td>promotion_on</td>\n",
       "      <td>2</td>\n",
       "    </tr>\n",
       "    <tr>\n",
       "      <th>27</th>\n",
       "      <td>promotion_price</td>\n",
       "      <td>97</td>\n",
       "    </tr>\n",
       "    <tr>\n",
       "      <th>28</th>\n",
       "      <td>price_bin</td>\n",
       "      <td>4</td>\n",
       "    </tr>\n",
       "    <tr>\n",
       "      <th>29</th>\n",
       "      <td>discount_rate</td>\n",
       "      <td>12</td>\n",
       "    </tr>\n",
       "    <tr>\n",
       "      <th>30</th>\n",
       "      <td>comment_received</td>\n",
       "      <td>33</td>\n",
       "    </tr>\n",
       "    <tr>\n",
       "      <th>31</th>\n",
       "      <td>product_rating</td>\n",
       "      <td>7</td>\n",
       "    </tr>\n",
       "    <tr>\n",
       "      <th>32</th>\n",
       "      <td>high_rating</td>\n",
       "      <td>2</td>\n",
       "    </tr>\n",
       "    <tr>\n",
       "      <th>33</th>\n",
       "      <td>high_discount</td>\n",
       "      <td>2</td>\n",
       "    </tr>\n",
       "    <tr>\n",
       "      <th>34</th>\n",
       "      <td>high_comment</td>\n",
       "      <td>2</td>\n",
       "    </tr>\n",
       "    <tr>\n",
       "      <th>35</th>\n",
       "      <td>avg_category_rate</td>\n",
       "      <td>4</td>\n",
       "    </tr>\n",
       "    <tr>\n",
       "      <th>36</th>\n",
       "      <td>avg_category_comment</td>\n",
       "      <td>12</td>\n",
       "    </tr>\n",
       "    <tr>\n",
       "      <th>37</th>\n",
       "      <td>week_of_month</td>\n",
       "      <td>6</td>\n",
       "    </tr>\n",
       "    <tr>\n",
       "      <th>38</th>\n",
       "      <td>wday</td>\n",
       "      <td>7</td>\n",
       "    </tr>\n",
       "    <tr>\n",
       "      <th>39</th>\n",
       "      <td>day_of_year</td>\n",
       "      <td>214</td>\n",
       "    </tr>\n",
       "    <tr>\n",
       "      <th>40</th>\n",
       "      <td>conversion_rate</td>\n",
       "      <td>113</td>\n",
       "    </tr>\n",
       "  </tbody>\n",
       "</table>\n",
       "</div>"
      ],
      "text/plain": [
       "                  Column Name  Unique Value Count\n",
       "0                        date                 214\n",
       "1                  product_id                 131\n",
       "2                product_name                 133\n",
       "3            product_category                  20\n",
       "4                       brand                  13\n",
       "5                     traffic                  56\n",
       "6                 impressions                  97\n",
       "7                     payment                  12\n",
       "8                     revenue                1185\n",
       "9            product_ad_spend                 567\n",
       "10              shop_ad_spend                 161\n",
       "11              auto_ad_spend                   9\n",
       "12                run_shop_ad                   2\n",
       "13             run_product_ad                   2\n",
       "14  product_page_bounce_count                  20\n",
       "15        traffic_from_search                  36\n",
       "16                   wm_yr_wk                  31\n",
       "17                      month                   7\n",
       "18                          d                 214\n",
       "19                  doubleday                   2\n",
       "20                  near_dday                   2\n",
       "21               end_of_month                   2\n",
       "22                    weekend                   2\n",
       "23      other_commercial_sale                   2\n",
       "24                   day_offs                   2\n",
       "25                  avg_price                  84\n",
       "26               promotion_on                   2\n",
       "27            promotion_price                  97\n",
       "28                  price_bin                   4\n",
       "29              discount_rate                  12\n",
       "30           comment_received                  33\n",
       "31             product_rating                   7\n",
       "32                high_rating                   2\n",
       "33              high_discount                   2\n",
       "34               high_comment                   2\n",
       "35          avg_category_rate                   4\n",
       "36       avg_category_comment                  12\n",
       "37              week_of_month                   6\n",
       "38                       wday                   7\n",
       "39                day_of_year                 214\n",
       "40            conversion_rate                 113"
      ]
     },
     "execution_count": 11,
     "metadata": {},
     "output_type": "execute_result"
    }
   ],
   "source": [
    "def check_unique_values(df):\n",
    "    unique_values = {col: df[col].nunique() for col in df.columns}\n",
    "    result_df = pd.DataFrame(list(unique_values.items()), columns=[\"Column Name\", \"Unique Value Count\"])\n",
    "    return result_df\n",
    "\n",
    "check_unique_values(demand)"
   ]
  },
  {
   "cell_type": "code",
   "execution_count": 12,
   "metadata": {},
   "outputs": [
    {
     "name": "stdout",
     "output_type": "stream",
     "text": [
      "<class 'pandas.core.frame.DataFrame'>\n",
      "RangeIndex: 28676 entries, 0 to 28675\n",
      "Data columns (total 41 columns):\n",
      " #   Column                     Non-Null Count  Dtype  \n",
      "---  ------                     --------------  -----  \n",
      " 0   date                       28676 non-null  object \n",
      " 1   product_id                 28676 non-null  int64  \n",
      " 2   product_name               28676 non-null  object \n",
      " 3   product_category           28676 non-null  object \n",
      " 4   brand                      28676 non-null  object \n",
      " 5   traffic                    28676 non-null  int64  \n",
      " 6   impressions                28676 non-null  int64  \n",
      " 7   payment                    28676 non-null  int64  \n",
      " 8   revenue                    28676 non-null  int64  \n",
      " 9   product_ad_spend           28676 non-null  int64  \n",
      " 10  shop_ad_spend              28676 non-null  int64  \n",
      " 11  auto_ad_spend              28676 non-null  int64  \n",
      " 12  run_shop_ad                28676 non-null  int64  \n",
      " 13  run_product_ad             28676 non-null  int64  \n",
      " 14  product_page_bounce_count  28676 non-null  int64  \n",
      " 15  traffic_from_search        28676 non-null  int64  \n",
      " 16  wm_yr_wk                   28676 non-null  int64  \n",
      " 17  month                      28676 non-null  int64  \n",
      " 18  d                          28676 non-null  int64  \n",
      " 19  doubleday                  28676 non-null  int64  \n",
      " 20  near_dday                  28676 non-null  int64  \n",
      " 21  end_of_month               28676 non-null  int64  \n",
      " 22  weekend                    28676 non-null  int64  \n",
      " 23  other_commercial_sale      28676 non-null  int64  \n",
      " 24  day_offs                   28676 non-null  int64  \n",
      " 25  avg_price                  28676 non-null  int64  \n",
      " 26  promotion_on               28676 non-null  int64  \n",
      " 27  promotion_price            28676 non-null  int64  \n",
      " 28  price_bin                  28676 non-null  object \n",
      " 29  discount_rate              28676 non-null  object \n",
      " 30  comment_received           28676 non-null  int64  \n",
      " 31  product_rating             28676 non-null  float64\n",
      " 32  high_rating                28676 non-null  int64  \n",
      " 33  high_discount              28676 non-null  int64  \n",
      " 34  high_comment               28676 non-null  int64  \n",
      " 35  avg_category_rate          28676 non-null  float64\n",
      " 36  avg_category_comment       28676 non-null  int64  \n",
      " 37  week_of_month              28676 non-null  int64  \n",
      " 38  wday                       28676 non-null  int64  \n",
      " 39  day_of_year                28676 non-null  int64  \n",
      " 40  conversion_rate            28676 non-null  float64\n",
      "dtypes: float64(3), int64(32), object(6)\n",
      "memory usage: 9.0+ MB\n"
     ]
    }
   ],
   "source": [
    "demand.info()"
   ]
  },
  {
   "cell_type": "markdown",
   "metadata": {},
   "source": [
    "Seems like we have some issues:\n",
    "* Misalignment between `product_id` and `product_name`\n",
    "* Some variables in the wrong data types"
   ]
  },
  {
   "cell_type": "markdown",
   "metadata": {},
   "source": [
    "### Standardize data types"
   ]
  },
  {
   "cell_type": "markdown",
   "metadata": {},
   "source": [
    "`date` should be in datetime data type"
   ]
  },
  {
   "cell_type": "code",
   "execution_count": 13,
   "metadata": {},
   "outputs": [],
   "source": [
    "# Ensure the 'date' column is in datetime format\n",
    "demand['date'] = pd.to_datetime(demand['date'])\n",
    "\n",
    "# Sort the data by date, then product_id\n",
    "demand = demand.sort_values(by=['product_id', 'date'])"
   ]
  },
  {
   "cell_type": "markdown",
   "metadata": {},
   "source": [
    "`discount_rate` should be float   \n",
    "\n",
    "`product_id` should be string"
   ]
  },
  {
   "cell_type": "code",
   "execution_count": 14,
   "metadata": {},
   "outputs": [],
   "source": [
    "# Convert 'discount_rate' to float\n",
    "demand['discount_rate'] = pd.to_numeric(\n",
    "    demand['discount_rate'].str.replace('%', '', regex=False), \n",
    "    errors='coerce'\n",
    ").astype(float).round(4)\n",
    "\n",
    "# Convert 'product_id' to string\n",
    "demand['product_id'] = demand['product_id'].astype(str)"
   ]
  },
  {
   "cell_type": "markdown",
   "metadata": {},
   "source": [
    "Double-check"
   ]
  },
  {
   "cell_type": "code",
   "execution_count": 15,
   "metadata": {},
   "outputs": [
    {
     "name": "stdout",
     "output_type": "stream",
     "text": [
      "<class 'pandas.core.frame.DataFrame'>\n",
      "RangeIndex: 28676 entries, 0 to 28675\n",
      "Data columns (total 41 columns):\n",
      " #   Column                     Non-Null Count  Dtype         \n",
      "---  ------                     --------------  -----         \n",
      " 0   date                       28676 non-null  datetime64[ns]\n",
      " 1   product_id                 28676 non-null  object        \n",
      " 2   product_name               28676 non-null  object        \n",
      " 3   product_category           28676 non-null  object        \n",
      " 4   brand                      28676 non-null  object        \n",
      " 5   traffic                    28676 non-null  int64         \n",
      " 6   impressions                28676 non-null  int64         \n",
      " 7   payment                    28676 non-null  int64         \n",
      " 8   revenue                    28676 non-null  int64         \n",
      " 9   product_ad_spend           28676 non-null  int64         \n",
      " 10  shop_ad_spend              28676 non-null  int64         \n",
      " 11  auto_ad_spend              28676 non-null  int64         \n",
      " 12  run_shop_ad                28676 non-null  int64         \n",
      " 13  run_product_ad             28676 non-null  int64         \n",
      " 14  product_page_bounce_count  28676 non-null  int64         \n",
      " 15  traffic_from_search        28676 non-null  int64         \n",
      " 16  wm_yr_wk                   28676 non-null  int64         \n",
      " 17  month                      28676 non-null  int64         \n",
      " 18  d                          28676 non-null  int64         \n",
      " 19  doubleday                  28676 non-null  int64         \n",
      " 20  near_dday                  28676 non-null  int64         \n",
      " 21  end_of_month               28676 non-null  int64         \n",
      " 22  weekend                    28676 non-null  int64         \n",
      " 23  other_commercial_sale      28676 non-null  int64         \n",
      " 24  day_offs                   28676 non-null  int64         \n",
      " 25  avg_price                  28676 non-null  int64         \n",
      " 26  promotion_on               28676 non-null  int64         \n",
      " 27  promotion_price            28676 non-null  int64         \n",
      " 28  price_bin                  28676 non-null  object        \n",
      " 29  discount_rate              28676 non-null  float64       \n",
      " 30  comment_received           28676 non-null  int64         \n",
      " 31  product_rating             28676 non-null  float64       \n",
      " 32  high_rating                28676 non-null  int64         \n",
      " 33  high_discount              28676 non-null  int64         \n",
      " 34  high_comment               28676 non-null  int64         \n",
      " 35  avg_category_rate          28676 non-null  float64       \n",
      " 36  avg_category_comment       28676 non-null  int64         \n",
      " 37  week_of_month              28676 non-null  int64         \n",
      " 38  wday                       28676 non-null  int64         \n",
      " 39  day_of_year                28676 non-null  int64         \n",
      " 40  conversion_rate            28676 non-null  float64       \n",
      "dtypes: datetime64[ns](1), float64(4), int64(31), object(5)\n",
      "memory usage: 9.0+ MB\n"
     ]
    }
   ],
   "source": [
    "demand.info()"
   ]
  },
  {
   "cell_type": "code",
   "execution_count": 16,
   "metadata": {},
   "outputs": [
    {
     "name": "stdout",
     "output_type": "stream",
     "text": [
      "        date  product_id                                                      product_name                                                  product_category                                                             brand  traffic  impressions  payment  revenue  product_ad_spend  shop_ad_spend  auto_ad_spend  run_shop_ad  run_product_ad  product_page_bounce_count  traffic_from_search  wm_yr_wk  month  d  doubleday  near_dday  end_of_month  weekend  other_commercial_sale  day_offs  avg_price  promotion_on  promotion_price price_bin  discount_rate  comment_received  product_rating  high_rating  high_discount  high_comment  avg_category_rate  avg_category_comment  week_of_month  wday  day_of_year  conversion_rate\n",
      "0 2024-05-01  3388329772  c962b314933a9aa88002ec3c338e9a94bbd37353af8ca51da671406aa96ebf95  a44f96f2ae1f169df61a6ca60bda9010eeb3d754eaff98291d89a7d486a46905  0c11971ede300e8f8c3b1ce00d14d47474c4ef0206a9fd9532bbb462ab06916b        0            0        0        0                 0             67          30000            1               1                          0                    0    202417      5  1          0          0             0        0                      0         1    1166400             0          1166400     cheap            0.0                45             4.8            1              0             1                4.9                    31              1     3          122              0.0\n",
      "1 2024-05-02  3388329772  c962b314933a9aa88002ec3c338e9a94bbd37353af8ca51da671406aa96ebf95  a44f96f2ae1f169df61a6ca60bda9010eeb3d754eaff98291d89a7d486a46905  0c11971ede300e8f8c3b1ce00d14d47474c4ef0206a9fd9532bbb462ab06916b        0            0        0        0                 0           5089          30000            1               1                          0                    0    202417      5  2          0          0             0        0                      0         0    1166400             0          1166400     cheap            0.0                45             4.8            1              0             1                4.9                    31              1     4          123              0.0\n",
      "2 2024-05-03  3388329772  c962b314933a9aa88002ec3c338e9a94bbd37353af8ca51da671406aa96ebf95  a44f96f2ae1f169df61a6ca60bda9010eeb3d754eaff98291d89a7d486a46905  0c11971ede300e8f8c3b1ce00d14d47474c4ef0206a9fd9532bbb462ab06916b        0            0        0        0                 0           8849          30000            1               1                          0                    0    202417      5  3          0          0             0        0                      0         0    1166400             0          1166400     cheap            0.0                45             4.8            1              0             1                4.9                    31              1     5          124              0.0\n",
      "3 2024-05-04  3388329772  c962b314933a9aa88002ec3c338e9a94bbd37353af8ca51da671406aa96ebf95  a44f96f2ae1f169df61a6ca60bda9010eeb3d754eaff98291d89a7d486a46905  0c11971ede300e8f8c3b1ce00d14d47474c4ef0206a9fd9532bbb462ab06916b        0            0        0        0                 0          11675          30000            1               1                          0                    0    202417      5  4          0          1             0        1                      0         0    1166400             0          1166400     cheap            0.0                45             4.8            1              0             1                4.9                    31              1     6          125              0.0\n",
      "4 2024-05-05  3388329772  c962b314933a9aa88002ec3c338e9a94bbd37353af8ca51da671406aa96ebf95  a44f96f2ae1f169df61a6ca60bda9010eeb3d754eaff98291d89a7d486a46905  0c11971ede300e8f8c3b1ce00d14d47474c4ef0206a9fd9532bbb462ab06916b        0            0        0        0                 0          19085          25000            1               1                          0                    0    202418      5  5          1          0             0        1                      0         0    1166400             0          1166400     cheap            0.0                45             4.8            1              0             1                4.9                    31              1     7          126              0.0\n"
     ]
    }
   ],
   "source": [
    "print(demand.head().to_string())"
   ]
  },
  {
   "cell_type": "markdown",
   "metadata": {},
   "source": [
    "### Fix misalignment between `product_id` and `product_name`"
   ]
  },
  {
   "cell_type": "code",
   "execution_count": 17,
   "metadata": {},
   "outputs": [
    {
     "name": "stdout",
     "output_type": "stream",
     "text": [
      "     product_id  product_name\n",
      "43  15765129329             2\n",
      "76  21382736254             2\n",
      "81  22150796991             2\n",
      "Check these product_ids for misalignment between product_id and product_name:\n",
      "['15765129329', '21382736254', '22150796991']\n"
     ]
    }
   ],
   "source": [
    "def check_row_misalignment(df, col1, col2):\n",
    "    misaligned = df.groupby(col1)[col2].nunique().reset_index()\n",
    "    misaligned = misaligned[misaligned[col2] > 1]\n",
    "    return misaligned\n",
    "\n",
    "misaligned_rows = check_row_misalignment(demand, 'product_id', 'product_name')\n",
    "print(misaligned_rows)\n",
    "\n",
    "misaligned_product_ids = misaligned_rows['product_id'].tolist()\n",
    "\n",
    "print(\"Check these product_ids for misalignment between product_id and product_name:\")\n",
    "print(misaligned_product_ids)"
   ]
  },
  {
   "cell_type": "code",
   "execution_count": 18,
   "metadata": {},
   "outputs": [],
   "source": [
    "# # I check it manually with excel to investigate, if you want to see for yourself, you can uncomment these lines\n",
    "\n",
    "# filtered_by_product_id = demand[demand['product_id'].isin(misaligned_product_ids)]\n",
    "\n",
    "# # Check the shape of the DataFrame\n",
    "# rows, columns = filtered_by_product_id.shape\n",
    "\n",
    "# print(f\"Number of rows: {rows}\")\n",
    "# print(f\"Number of columns: {columns}\")\n",
    "\n",
    "# # Export data to check in excel\n",
    "# filtered_by_product_id.to_csv('filtered_by_product_id.csv')"
   ]
  },
  {
   "cell_type": "markdown",
   "metadata": {},
   "source": [
    "I examined the data and see that there are dates where `product_name` A in `product_id` 1 had data. Within that same date, `product_name` B corresponding to the same `product_id` has 0 for its variables. And vice versa. So I'll keep rows where the `product_id` has \"meaningful data\" (non-zero values for its important variables), and eliminate rows where the `product_id` carries 0 for its variables (impressions, traffic, etc.) in another `product_name` for the same `date`.\n",
    "\n",
    "This is because in November, the sales admin changed the content of the product pages: keeping high performing `product_id` (meaning the `product_id` contains high rating, high comment volumes, etc), merging low performing products into that `product_id` and then changed the name of the corresponding `product_name`."
   ]
  },
  {
   "cell_type": "code",
   "execution_count": 19,
   "metadata": {},
   "outputs": [
    {
     "name": "stderr",
     "output_type": "stream",
     "text": [
      "/tmp/ipykernel_18517/3250136266.py:18: DeprecationWarning: DataFrameGroupBy.apply operated on the grouping columns. This behavior is deprecated, and in a future version of pandas the grouping columns will be excluded from the operation. Either pass `include_groups=False` to exclude the groupings or explicitly select the grouping columns after groupby to silence this warning.\n",
      "  filtered_demand = filtered_demand.groupby(['date', 'product_id'], group_keys=False).apply(filter_impressions_and_payment)\n"
     ]
    }
   ],
   "source": [
    "# Filter the DataFrame for misaligned product_ids\n",
    "filtered_demand = demand[demand['product_id'].isin(misaligned_product_ids)]\n",
    "\n",
    "# Case 1: Remove duplicate rows based on the specified subset of columns\n",
    "filtered_demand = filtered_demand.drop_duplicates(subset=['date', 'product_id', 'traffic', 'impressions', 'payment'])\n",
    "\n",
    "# Case 2: After Case 1, check for each combination of date & product_id, if there are 2 rows,\n",
    "# keep the row with impressions > 0 or payment > 0, else remove the row with impressions = 0.\n",
    "def filter_impressions_and_payment(group):\n",
    "    if len(group) == 2:  # Ensure there are exactly 2 rows per combination\n",
    "        # Check for rows where impressions = 0 and the other row has either impressions > 0 or payment > 0\n",
    "        if (group['impressions'] == 0).any() and ((group['impressions'] > 0).any() or (group['payment'] > 0).any()):\n",
    "            # Keep the row where impressions > 0 or payment > 0\n",
    "            group = group[(group['impressions'] > 0) | (group['payment'] > 0)]\n",
    "    return group\n",
    "\n",
    "# Apply the filtering logic only to the filtered DataFrame\n",
    "filtered_demand = filtered_demand.groupby(['date', 'product_id'], group_keys=False).apply(filter_impressions_and_payment)"
   ]
  },
  {
   "cell_type": "code",
   "execution_count": 20,
   "metadata": {},
   "outputs": [
    {
     "name": "stdout",
     "output_type": "stream",
     "text": [
      "Total rows (all dates) for each product_id:\n",
      "product_id\n",
      "15765129329    214\n",
      "21382736254    214\n",
      "22150796991    214\n",
      "Name: date, dtype: int64\n"
     ]
    }
   ],
   "source": [
    "# Group by 'product_id' and count the number of rows for each\n",
    "date_counts = filtered_demand.groupby('product_id')['date'].count()\n",
    "\n",
    "# Set display option to show all rows\n",
    "pd.set_option('display.max_rows', None)\n",
    "# pd.reset_option('display.max_rows')\n",
    "\n",
    "# Print the total counts for each product_id\n",
    "print(\"Total rows (all dates) for each product_id:\")\n",
    "print(date_counts)"
   ]
  },
  {
   "cell_type": "markdown",
   "metadata": {},
   "source": [
    "It's aligned now."
   ]
  },
  {
   "cell_type": "code",
   "execution_count": 21,
   "metadata": {},
   "outputs": [],
   "source": [
    "# Update the original DataFrame with the modified rows for misaligned product_ids\n",
    "# First, drop the rows for the misaligned product_ids from the original DataFrame\n",
    "demand = demand[~demand['product_id'].isin(misaligned_product_ids)]\n",
    "\n",
    "# Then, append the filtered DataFrame back\n",
    "demand = pd.concat([demand, filtered_demand], ignore_index=True)"
   ]
  },
  {
   "cell_type": "markdown",
   "metadata": {},
   "source": [
    "## Feature engineering"
   ]
  },
  {
   "cell_type": "markdown",
   "metadata": {},
   "source": [
    "### Ensure order of `date` for each `product_id`\n",
    "Sorting will be applied first by `product_id` and then by `date`for creating lagging, and rolling features later"
   ]
  },
  {
   "cell_type": "code",
   "execution_count": 22,
   "metadata": {},
   "outputs": [
    {
     "data": {
      "text/html": [
       "<div>\n",
       "<style scoped>\n",
       "    .dataframe tbody tr th:only-of-type {\n",
       "        vertical-align: middle;\n",
       "    }\n",
       "\n",
       "    .dataframe tbody tr th {\n",
       "        vertical-align: top;\n",
       "    }\n",
       "\n",
       "    .dataframe thead th {\n",
       "        text-align: right;\n",
       "    }\n",
       "</style>\n",
       "<table border=\"1\" class=\"dataframe\">\n",
       "  <thead>\n",
       "    <tr style=\"text-align: right;\">\n",
       "      <th></th>\n",
       "      <th>date</th>\n",
       "      <th>product_id</th>\n",
       "      <th>product_name</th>\n",
       "      <th>product_category</th>\n",
       "      <th>brand</th>\n",
       "      <th>traffic</th>\n",
       "      <th>impressions</th>\n",
       "      <th>payment</th>\n",
       "      <th>revenue</th>\n",
       "      <th>product_ad_spend</th>\n",
       "      <th>...</th>\n",
       "      <th>product_rating</th>\n",
       "      <th>high_rating</th>\n",
       "      <th>high_discount</th>\n",
       "      <th>high_comment</th>\n",
       "      <th>avg_category_rate</th>\n",
       "      <th>avg_category_comment</th>\n",
       "      <th>week_of_month</th>\n",
       "      <th>wday</th>\n",
       "      <th>day_of_year</th>\n",
       "      <th>conversion_rate</th>\n",
       "    </tr>\n",
       "  </thead>\n",
       "  <tbody>\n",
       "    <tr>\n",
       "      <th>3424</th>\n",
       "      <td>2024-05-01</td>\n",
       "      <td>10070408774</td>\n",
       "      <td>d28887191c681dbf1caac11162e192ba5142d1606b815f...</td>\n",
       "      <td>f575e1ec32beef055e0bfcfe33625b06f92e89293878c8...</td>\n",
       "      <td>4f691cf8af4335990a792962f5f7edeed916234dbe17b3...</td>\n",
       "      <td>0</td>\n",
       "      <td>0</td>\n",
       "      <td>0</td>\n",
       "      <td>0</td>\n",
       "      <td>0</td>\n",
       "      <td>...</td>\n",
       "      <td>0.0</td>\n",
       "      <td>0</td>\n",
       "      <td>0</td>\n",
       "      <td>0</td>\n",
       "      <td>4.9</td>\n",
       "      <td>8</td>\n",
       "      <td>1</td>\n",
       "      <td>3</td>\n",
       "      <td>122</td>\n",
       "      <td>0.0</td>\n",
       "    </tr>\n",
       "    <tr>\n",
       "      <th>3425</th>\n",
       "      <td>2024-05-02</td>\n",
       "      <td>10070408774</td>\n",
       "      <td>d28887191c681dbf1caac11162e192ba5142d1606b815f...</td>\n",
       "      <td>f575e1ec32beef055e0bfcfe33625b06f92e89293878c8...</td>\n",
       "      <td>4f691cf8af4335990a792962f5f7edeed916234dbe17b3...</td>\n",
       "      <td>0</td>\n",
       "      <td>0</td>\n",
       "      <td>0</td>\n",
       "      <td>0</td>\n",
       "      <td>0</td>\n",
       "      <td>...</td>\n",
       "      <td>0.0</td>\n",
       "      <td>0</td>\n",
       "      <td>0</td>\n",
       "      <td>0</td>\n",
       "      <td>4.9</td>\n",
       "      <td>8</td>\n",
       "      <td>1</td>\n",
       "      <td>4</td>\n",
       "      <td>123</td>\n",
       "      <td>0.0</td>\n",
       "    </tr>\n",
       "    <tr>\n",
       "      <th>3426</th>\n",
       "      <td>2024-05-03</td>\n",
       "      <td>10070408774</td>\n",
       "      <td>d28887191c681dbf1caac11162e192ba5142d1606b815f...</td>\n",
       "      <td>f575e1ec32beef055e0bfcfe33625b06f92e89293878c8...</td>\n",
       "      <td>4f691cf8af4335990a792962f5f7edeed916234dbe17b3...</td>\n",
       "      <td>0</td>\n",
       "      <td>0</td>\n",
       "      <td>0</td>\n",
       "      <td>0</td>\n",
       "      <td>0</td>\n",
       "      <td>...</td>\n",
       "      <td>0.0</td>\n",
       "      <td>0</td>\n",
       "      <td>0</td>\n",
       "      <td>0</td>\n",
       "      <td>4.9</td>\n",
       "      <td>8</td>\n",
       "      <td>1</td>\n",
       "      <td>5</td>\n",
       "      <td>124</td>\n",
       "      <td>0.0</td>\n",
       "    </tr>\n",
       "    <tr>\n",
       "      <th>3427</th>\n",
       "      <td>2024-05-04</td>\n",
       "      <td>10070408774</td>\n",
       "      <td>d28887191c681dbf1caac11162e192ba5142d1606b815f...</td>\n",
       "      <td>f575e1ec32beef055e0bfcfe33625b06f92e89293878c8...</td>\n",
       "      <td>4f691cf8af4335990a792962f5f7edeed916234dbe17b3...</td>\n",
       "      <td>0</td>\n",
       "      <td>0</td>\n",
       "      <td>0</td>\n",
       "      <td>0</td>\n",
       "      <td>0</td>\n",
       "      <td>...</td>\n",
       "      <td>0.0</td>\n",
       "      <td>0</td>\n",
       "      <td>0</td>\n",
       "      <td>0</td>\n",
       "      <td>4.9</td>\n",
       "      <td>8</td>\n",
       "      <td>1</td>\n",
       "      <td>6</td>\n",
       "      <td>125</td>\n",
       "      <td>0.0</td>\n",
       "    </tr>\n",
       "    <tr>\n",
       "      <th>3428</th>\n",
       "      <td>2024-05-05</td>\n",
       "      <td>10070408774</td>\n",
       "      <td>d28887191c681dbf1caac11162e192ba5142d1606b815f...</td>\n",
       "      <td>f575e1ec32beef055e0bfcfe33625b06f92e89293878c8...</td>\n",
       "      <td>4f691cf8af4335990a792962f5f7edeed916234dbe17b3...</td>\n",
       "      <td>0</td>\n",
       "      <td>0</td>\n",
       "      <td>0</td>\n",
       "      <td>0</td>\n",
       "      <td>0</td>\n",
       "      <td>...</td>\n",
       "      <td>0.0</td>\n",
       "      <td>0</td>\n",
       "      <td>0</td>\n",
       "      <td>0</td>\n",
       "      <td>4.9</td>\n",
       "      <td>8</td>\n",
       "      <td>1</td>\n",
       "      <td>7</td>\n",
       "      <td>126</td>\n",
       "      <td>0.0</td>\n",
       "    </tr>\n",
       "  </tbody>\n",
       "</table>\n",
       "<p>5 rows × 41 columns</p>\n",
       "</div>"
      ],
      "text/plain": [
       "           date   product_id  \\\n",
       "3424 2024-05-01  10070408774   \n",
       "3425 2024-05-02  10070408774   \n",
       "3426 2024-05-03  10070408774   \n",
       "3427 2024-05-04  10070408774   \n",
       "3428 2024-05-05  10070408774   \n",
       "\n",
       "                                           product_name  \\\n",
       "3424  d28887191c681dbf1caac11162e192ba5142d1606b815f...   \n",
       "3425  d28887191c681dbf1caac11162e192ba5142d1606b815f...   \n",
       "3426  d28887191c681dbf1caac11162e192ba5142d1606b815f...   \n",
       "3427  d28887191c681dbf1caac11162e192ba5142d1606b815f...   \n",
       "3428  d28887191c681dbf1caac11162e192ba5142d1606b815f...   \n",
       "\n",
       "                                       product_category  \\\n",
       "3424  f575e1ec32beef055e0bfcfe33625b06f92e89293878c8...   \n",
       "3425  f575e1ec32beef055e0bfcfe33625b06f92e89293878c8...   \n",
       "3426  f575e1ec32beef055e0bfcfe33625b06f92e89293878c8...   \n",
       "3427  f575e1ec32beef055e0bfcfe33625b06f92e89293878c8...   \n",
       "3428  f575e1ec32beef055e0bfcfe33625b06f92e89293878c8...   \n",
       "\n",
       "                                                  brand  traffic  impressions  \\\n",
       "3424  4f691cf8af4335990a792962f5f7edeed916234dbe17b3...        0            0   \n",
       "3425  4f691cf8af4335990a792962f5f7edeed916234dbe17b3...        0            0   \n",
       "3426  4f691cf8af4335990a792962f5f7edeed916234dbe17b3...        0            0   \n",
       "3427  4f691cf8af4335990a792962f5f7edeed916234dbe17b3...        0            0   \n",
       "3428  4f691cf8af4335990a792962f5f7edeed916234dbe17b3...        0            0   \n",
       "\n",
       "      payment  revenue  product_ad_spend  ...  product_rating  high_rating  \\\n",
       "3424        0        0                 0  ...             0.0            0   \n",
       "3425        0        0                 0  ...             0.0            0   \n",
       "3426        0        0                 0  ...             0.0            0   \n",
       "3427        0        0                 0  ...             0.0            0   \n",
       "3428        0        0                 0  ...             0.0            0   \n",
       "\n",
       "      high_discount  high_comment  avg_category_rate  avg_category_comment  \\\n",
       "3424              0             0                4.9                     8   \n",
       "3425              0             0                4.9                     8   \n",
       "3426              0             0                4.9                     8   \n",
       "3427              0             0                4.9                     8   \n",
       "3428              0             0                4.9                     8   \n",
       "\n",
       "      week_of_month  wday  day_of_year  conversion_rate  \n",
       "3424              1     3          122              0.0  \n",
       "3425              1     4          123              0.0  \n",
       "3426              1     5          124              0.0  \n",
       "3427              1     6          125              0.0  \n",
       "3428              1     7          126              0.0  \n",
       "\n",
       "[5 rows x 41 columns]"
      ]
     },
     "execution_count": 22,
     "metadata": {},
     "output_type": "execute_result"
    }
   ],
   "source": [
    "# Sort the data by product_id and date\n",
    "demand = demand.sort_values(by=['product_id', 'date'])\n",
    "\n",
    "demand.head()"
   ]
  },
  {
   "cell_type": "markdown",
   "metadata": {},
   "source": [
    "### sine/cosine transforms time variables to capture periodicity and cyclic patterns"
   ]
  },
  {
   "cell_type": "code",
   "execution_count": 23,
   "metadata": {},
   "outputs": [],
   "source": [
    "# For cyclical encoding, use sine/cosine transforms\n",
    "def cyclical_encode(series, max_val):\n",
    "    # series are values from 1 to max_val\n",
    "    # Convert to 0-based: (value-1)\n",
    "    sine = np.sin(2 * np.pi * (series - 1) / max_val)\n",
    "    cosine = np.cos(2 * np.pi * (series - 1) / max_val)\n",
    "    return sine, cosine\n",
    "\n",
    "# Cyclical encode weekday (7 days in a week)\n",
    "demand['wday_sin'], demand['wday_cos'] = cyclical_encode(demand['wday'], 7)\n",
    "# Cyclical encode month (12 months)\n",
    "demand['month_sin'], demand['month_cos'] = cyclical_encode(demand['month'], 12)\n",
    "# Cyclical encode week_of_the_month (assume up to 5 weeks in a month)\n",
    "demand['wom_sin'], demand['wom_cos'] = cyclical_encode(demand['week_of_month'], 5)\n",
    "# Cyclical encode day_of_year (assume up to 365 days in a year)\n",
    "demand['day_of_year_sin'], demand['day_of_year_cos'] = cyclical_encode(demand['day_of_year'], 365)"
   ]
  },
  {
   "cell_type": "markdown",
   "metadata": {},
   "source": [
    "### Lag and rolling features for important numeric columns\n",
    "How I defined 'important' is based on domain knowledge and intuition first, then we can refine features later"
   ]
  },
  {
   "cell_type": "code",
   "execution_count": 24,
   "metadata": {},
   "outputs": [],
   "source": [
    "# Define the columns to create the features on\n",
    "numeric_cols = ['payment', 'revenue', 'product_ad_spend', 'shop_ad_spend', 'auto_ad_spend']\n",
    "\n",
    "# Create lag features (e.g., lag_1, lag_3, lag_7, lag_14, lag_28)\n",
    "lag_periods = [3, 28]\n",
    "for col in numeric_cols:\n",
    "    if col in demand.columns:\n",
    "        for lag in lag_periods:\n",
    "            demand[f'{col}_lag_{lag}'] = demand.groupby('product_id')[col].shift(lag) #Reset lagging for every product_id"
   ]
  },
  {
   "cell_type": "markdown",
   "metadata": {},
   "source": [
    "### Create rolling features (example: 7-day rolling mean)"
   ]
  },
  {
   "cell_type": "code",
   "execution_count": 25,
   "metadata": {},
   "outputs": [],
   "source": [
    "# Define the columns to create the features on\n",
    "numeric_cols = ['traffic', 'impressions', 'payment', 'revenue', 'product_ad_spend', 'shop_ad_spend', 'auto_ad_spend']\n",
    "\n",
    "rolling_windows = [7, 28]  # Define the rolling windows\n",
    "for rolling_window in rolling_windows:\n",
    "    for col in numeric_cols:  # Ensure these are the numeric columns you want to apply rolling features to\n",
    "        if col in demand.columns:\n",
    "            demand[f'{col}_rolling_{rolling_window}d_mean'] = (\n",
    "                demand.groupby('product_id')[col] #Reset rolling for every product_id\n",
    "                .transform(lambda x: x.shift(1).rolling(rolling_window).mean())\n",
    "            )"
   ]
  },
  {
   "cell_type": "markdown",
   "metadata": {},
   "source": [
    "### Category-level average within each month and each week\n",
    "* There are homogenous patterns for each `product_category` (reference 'M5 Competition'), so we need to extract category-level data for the model to enhance learning process.\n",
    "* Besides, in execution, it is easier to manage on category level, not on every single product level. So if we can learn anything helpful, we can apply into our category growth plan."
   ]
  },
  {
   "cell_type": "code",
   "execution_count": 26,
   "metadata": {},
   "outputs": [],
   "source": [
    "if 'product_category' in demand.columns:\n",
    "    # Daily aggregation\n",
    "    cat_rev = demand.groupby(['product_category', 'date'])['product_ad_spend'].mean().reset_index(name='cat_daily_avg_product_ad_spend')\n",
    "    cat_traffic = demand.groupby(['product_category', 'date'])['traffic'].mean().reset_index(name='cat_daily_avg_traffic')\n",
    "\n",
    "    # Monthly aggregation\n",
    "    cat_month_rev = demand.groupby(['product_category', 'month'])['product_ad_spend'].mean().reset_index(name='cat_month_avg_product_ad_spend')\n",
    "    cat_month_traffic = demand.groupby(['product_category', 'month'])['traffic'].mean().reset_index(name='cat_month_avg_traffic')\n",
    "\n",
    "    # Weekly aggregation (assuming 'week_of_month' corresponds to the day of the week)\n",
    "    cat_week_rev = demand.groupby(['product_category', 'week_of_month'])['product_ad_spend'].mean().reset_index(name='cat_week_avg_product_ad_spend')\n",
    "    cat_week_traffic = demand.groupby(['product_category', 'week_of_month'])['traffic'].mean().reset_index(name='cat_week_avg_traffic')\n",
    "\n",
    "    # Merging daily aggregated values back to the main dataframe\n",
    "    demand = pd.merge(demand, cat_rev, on=['product_category', 'date'], how='left')\n",
    "    demand = pd.merge(demand, cat_traffic, on=['product_category', 'date'], how='left')\n",
    "\n",
    "    # Merging monthly aggregated values\n",
    "    demand = pd.merge(demand, cat_month_rev, on=['product_category', 'month'], how='left')\n",
    "    demand = pd.merge(demand, cat_month_traffic, on=['product_category', 'month'], how='left')\n",
    "\n",
    "    # Merging weekly aggregated values\n",
    "    demand = pd.merge(demand, cat_week_rev, on=['product_category', 'week_of_month'], how='left')\n",
    "    demand = pd.merge(demand, cat_week_traffic, on=['product_category', 'week_of_month'], how='left')"
   ]
  },
  {
   "cell_type": "markdown",
   "metadata": {},
   "source": [
    "#### Continuous zero-sale days until today\n",
    "I learned about `continuous_zero_sales_days` from the repetitive feature engineering practices in the M5 competition. I believe this feature is highly effective in helping the model understand sporadic sales patterns for certain `product_id`s and `product_category`s."
   ]
  },
  {
   "cell_type": "code",
   "execution_count": 27,
   "metadata": {},
   "outputs": [
    {
     "name": "stderr",
     "output_type": "stream",
     "text": [
      "/tmp/ipykernel_18517/269506180.py:11: DeprecationWarning: DataFrameGroupBy.apply operated on the grouping columns. This behavior is deprecated, and in a future version of pandas the grouping columns will be excluded from the operation. Either pass `include_groups=False` to exclude the groupings or explicitly select the grouping columns after groupby to silence this warning.\n",
      "  demand.groupby('product_id', group_keys=False).apply(continuous_zero_sales)\n"
     ]
    }
   ],
   "source": [
    "# Sort data to ensure it is in time order\n",
    "demand = demand.sort_values(by=['product_id', 'date'])\n",
    "\n",
    "# Define continuous zero-sale days\n",
    "def continuous_zero_sales(group):\n",
    "    zero_sales_days = (group['payment'] == 0).astype(int)  # 1 if no sale, 0 otherwise\n",
    "    return zero_sales_days.groupby((zero_sales_days != zero_sales_days.shift()).cumsum()).cumsum()\n",
    "\n",
    "# Apply the function for each product_id\n",
    "demand['continuous_zero_sales_days'] = (\n",
    "    demand.groupby('product_id', group_keys=False).apply(continuous_zero_sales)\n",
    ")"
   ]
  },
  {
   "cell_type": "markdown",
   "metadata": {},
   "source": [
    "Since this feature is important, to create lagging and rolling features for it is not a bad idea, I reckon"
   ]
  },
  {
   "cell_type": "code",
   "execution_count": 28,
   "metadata": {},
   "outputs": [],
   "source": [
    "# Rolling features for `continuous_zero_sales_days` on product_id level\n",
    "# Rolling window of 14 days is based on domain knowledge and reviewing the dataset\n",
    "rolling_window = 14\n",
    "demand['zero_sales_rolling_mean_14d'] = (\n",
    "    demand.groupby('product_id')['continuous_zero_sales_days']\n",
    "          .transform(lambda x: x.rolling(rolling_window, min_periods=1).mean())\n",
    ")\n",
    "demand['zero_sales_rolling_max_14d'] = (\n",
    "    demand.groupby('product_id')['continuous_zero_sales_days']\n",
    "          .transform(lambda x: x.rolling(rolling_window, min_periods=1).max())\n",
    ")"
   ]
  },
  {
   "cell_type": "code",
   "execution_count": 29,
   "metadata": {},
   "outputs": [],
   "source": [
    "# Category level zero_sales_rolling_mean_14d\n",
    "# Compute category-level average of zero_sales_rolling_mean_14d\n",
    "cat_rolling_avg_zero_sales_14d = (\n",
    "    demand.groupby(['product_category', 'date'])['zero_sales_rolling_mean_14d']\n",
    "          .mean()\n",
    "          .reset_index()\n",
    "          .rename(columns={'zero_sales_rolling_mean_14d': 'cat_rolling_avg_zero_sales_14d'})\n",
    ")\n",
    "\n",
    "# Merge back to the original DataFrame\n",
    "demand = pd.merge(demand, cat_rolling_avg_zero_sales_14d, on=['product_category', 'date'], how='left')"
   ]
  },
  {
   "cell_type": "code",
   "execution_count": 30,
   "metadata": {},
   "outputs": [],
   "source": [
    "# Interaction between category-level rolling zero sales and promotion\n",
    "demand['cat_zero_sales_x_promotion'] = (\n",
    "    demand['cat_rolling_avg_zero_sales_14d'] * demand['promotion_on']\n",
    ")"
   ]
  },
  {
   "cell_type": "code",
   "execution_count": 31,
   "metadata": {},
   "outputs": [],
   "source": [
    "# Step 0: Ensure data is sorted by 'product_category' and 'date'\n",
    "demand = demand.sort_values(by=['product_category', 'date'])\n",
    "\n",
    "# Trend in rolling average of `continuous_zero_sales_days`\n",
    "# Step 1: Compute category-level trend of zero_sales_rolling_mean_14d\n",
    "# Ensure it considers time order properly\n",
    "cat_trend = (\n",
    "    demand.groupby(['product_category', 'date'])['cat_rolling_avg_zero_sales_14d']\n",
    "          .mean()  # Aggregate for consistent value per 'product_category' and 'date'\n",
    "          .groupby(level=0)  # Group again by 'product_category'\n",
    "          .transform(lambda x: x.diff(14))  # Calculate 14-day trend\n",
    "          .reset_index(name='cat_rolling_avg_zero_sales_trend_14d')  # Create a new DataFrame\n",
    ")\n",
    "\n",
    "# Step 2: Merge back to the original DataFrame on 'product_category' and 'date'\n",
    "demand = pd.merge(demand, cat_trend, on=['product_category', 'date'], how='left')\n",
    "\n",
    "# Percentage changes in rolling average of `continuous_zero_sales_days`\n",
    "# Step 1: Compute category-level trend of zero_sales_rolling_mean_14d\n",
    "# Ensure it considers time order properly\n",
    "cat_pect_trend = (\n",
    "    demand.groupby(['product_category', 'date'])['cat_rolling_avg_zero_sales_14d']\n",
    "          .mean()  # Aggregate for consistent value per 'product_category' and 'date'\n",
    "          .groupby(level=0)  # Group again by 'product_category'\n",
    "          .transform(lambda x: x.pct_change(14))  # Calculate 14-day trend\n",
    "          .reset_index(name='cat_rolling_avg_zero_sales_pct_change_14d')  # Create a new DataFrame\n",
    ")\n",
    "\n",
    "# Step 2: Merge back to the original DataFrame on 'product_category' and 'date'\n",
    "demand = pd.merge(demand, cat_pect_trend, on=['product_category', 'date'], how='left')"
   ]
  },
  {
   "cell_type": "code",
   "execution_count": 32,
   "metadata": {},
   "outputs": [],
   "source": [
    "# Sort data to ensure it is in time order\n",
    "demand = demand.sort_values(by=['date', 'product_id'])\n",
    "\n",
    "# Lagged values of category-level zero sales rolling average\n",
    "for lag in [7, 14, 28]:\n",
    "    demand[f'cat_rolling_avg_zero_sales_lag_{lag}d'] = (\n",
    "        demand.groupby('product_id')['cat_rolling_avg_zero_sales_14d']\n",
    "              .transform(lambda x: x.shift(lag))\n",
    "    )"
   ]
  },
  {
   "cell_type": "markdown",
   "metadata": {},
   "source": [
    "## Normalized price-related variables:\n",
    "* Scale: category level"
   ]
  },
  {
   "cell_type": "code",
   "execution_count": 33,
   "metadata": {},
   "outputs": [],
   "source": [
    "# Step 1: Group by 'product_category' and calculate mean and std for 'avg_price' and 'promotion_price'\n",
    "category_stats = demand.groupby('product_category').agg(\n",
    "    avg_price_mean=('avg_price', 'mean'),\n",
    "    avg_price_std=('avg_price', 'std'),\n",
    "    promotion_price_mean=('promotion_price', 'mean'),\n",
    "    promotion_price_std=('promotion_price', 'std')\n",
    ").reset_index()\n",
    "\n",
    "# Step 2: Merge these statistics back to the original DataFrame\n",
    "demand = pd.merge(demand, category_stats, on='product_category', how='left')\n",
    "\n",
    "# Step 3: Create normalized columns\n",
    "demand['normalized_avg_price'] = (demand['avg_price'] - demand['avg_price_mean']) / demand['avg_price_std']\n",
    "demand['normalized_promotion_price'] = (demand['promotion_price'] - demand['promotion_price_mean']) / demand['promotion_price_std']\n",
    "\n",
    "# Dropping unnecessary intermediate columns for cleanliness (optional)\n",
    "demand = demand.drop(columns=['avg_price_mean', 'avg_price_std', 'promotion_price_mean', 'promotion_price_std'])"
   ]
  },
  {
   "cell_type": "markdown",
   "metadata": {},
   "source": [
    "### Features based on domain knowledge"
   ]
  },
  {
   "cell_type": "code",
   "execution_count": 34,
   "metadata": {},
   "outputs": [],
   "source": [
    "# Ad spend during promotion, weekend\n",
    "if 'promotion_on' in demand.columns and 'product_ad_spend' in demand.columns:\n",
    "    demand['ad_spend_during_promotion'] = demand['product_ad_spend'] * demand['promotion_on']\n",
    "\n",
    "if 'weekend' in demand.columns and 'product_ad_spend' in demand.columns:\n",
    "    demand['weekend_ad_spend'] = demand['weekend'] * demand['product_ad_spend']"
   ]
  },
  {
   "cell_type": "code",
   "execution_count": 35,
   "metadata": {},
   "outputs": [],
   "source": [
    "# CTR\n",
    "if 'traffic' in demand.columns and 'impressions' in demand.columns:\n",
    "    demand['CTR'] = np.where(demand['impressions'] == 0, 0, demand['traffic'] / demand['impressions'])"
   ]
  },
  {
   "cell_type": "markdown",
   "metadata": {},
   "source": [
    "### Last steps\n",
    "## One-hot encoding"
   ]
  },
  {
   "cell_type": "code",
   "execution_count": 36,
   "metadata": {},
   "outputs": [],
   "source": [
    "# Identify categorical features for one-hot encoding\n",
    "cat_cols = []\n",
    "for col in ['product_category', 'brand', 'price_bin']:\n",
    "    if col in demand.columns and demand[col].dtype == 'object':\n",
    "        cat_cols.append(col)\n",
    "\n",
    "# Perform one-hot encoding\n",
    "if cat_cols:\n",
    "    ohe = OneHotEncoder(handle_unknown='ignore', sparse_output=False)  # Use sparse_output instead of sparse\n",
    "    # Fit-transform\n",
    "    ohe_data = ohe.fit_transform(demand[cat_cols])\n",
    "    # Create a DataFrame with OHE results\n",
    "    ohe_df = pd.DataFrame(ohe_data, columns=ohe.get_feature_names_out(cat_cols), index=demand.index)\n",
    "    # Concatenate back\n",
    "    demand = pd.concat([demand.drop(cat_cols, axis=1), ohe_df], axis=1)"
   ]
  },
  {
   "cell_type": "markdown",
   "metadata": {},
   "source": [
    "Due to the high cardinality of `product_id`, one-hot encoding is not a suitable approach.\n",
    "\n",
    "So I'll try target encoding on it."
   ]
  },
  {
   "cell_type": "markdown",
   "metadata": {},
   "source": [
    "## Target encoding: product_id"
   ]
  },
  {
   "cell_type": "code",
   "execution_count": 37,
   "metadata": {},
   "outputs": [],
   "source": [
    "#Instantiate a target encoder\n",
    "te = ce.TargetEncoder(cols=['product_id'])\n",
    "\n",
    "# Fit the encoder on the training set\n",
    "demand['product_id_target_enc'] = te.fit_transform(demand['product_id'], demand['payment'])\n",
    "\n",
    "# Drop original if desired\n",
    "demand.drop('product_id', axis=1, inplace=True)"
   ]
  },
  {
   "cell_type": "code",
   "execution_count": 38,
   "metadata": {},
   "outputs": [],
   "source": [
    "## Drop columns to avoid duplication in learning\n",
    "demand = demand.drop(['wday', 'month', 'week_of_month', 'product_name', 'day_of_year'], axis=1)"
   ]
  },
  {
   "cell_type": "markdown",
   "metadata": {},
   "source": [
    "## Modeling"
   ]
  },
  {
   "cell_type": "markdown",
   "metadata": {},
   "source": [
    "### Define features and target"
   ]
  },
  {
   "cell_type": "code",
   "execution_count": 39,
   "metadata": {},
   "outputs": [
    {
     "data": {
      "text/plain": [
       "['date',\n",
       " 'traffic',\n",
       " 'impressions',\n",
       " 'payment',\n",
       " 'revenue',\n",
       " 'product_ad_spend',\n",
       " 'shop_ad_spend',\n",
       " 'auto_ad_spend',\n",
       " 'run_shop_ad',\n",
       " 'run_product_ad',\n",
       " 'product_page_bounce_count',\n",
       " 'traffic_from_search',\n",
       " 'wm_yr_wk',\n",
       " 'd',\n",
       " 'doubleday',\n",
       " 'near_dday',\n",
       " 'end_of_month',\n",
       " 'weekend',\n",
       " 'other_commercial_sale',\n",
       " 'day_offs',\n",
       " 'avg_price',\n",
       " 'promotion_on',\n",
       " 'promotion_price',\n",
       " 'discount_rate',\n",
       " 'comment_received',\n",
       " 'product_rating',\n",
       " 'high_rating',\n",
       " 'high_discount',\n",
       " 'high_comment',\n",
       " 'avg_category_rate',\n",
       " 'avg_category_comment',\n",
       " 'conversion_rate',\n",
       " 'wday_sin',\n",
       " 'wday_cos',\n",
       " 'month_sin',\n",
       " 'month_cos',\n",
       " 'wom_sin',\n",
       " 'wom_cos',\n",
       " 'day_of_year_sin',\n",
       " 'day_of_year_cos',\n",
       " 'payment_lag_3',\n",
       " 'payment_lag_28',\n",
       " 'revenue_lag_3',\n",
       " 'revenue_lag_28',\n",
       " 'product_ad_spend_lag_3',\n",
       " 'product_ad_spend_lag_28',\n",
       " 'shop_ad_spend_lag_3',\n",
       " 'shop_ad_spend_lag_28',\n",
       " 'auto_ad_spend_lag_3',\n",
       " 'auto_ad_spend_lag_28',\n",
       " 'traffic_rolling_7d_mean',\n",
       " 'impressions_rolling_7d_mean',\n",
       " 'payment_rolling_7d_mean',\n",
       " 'revenue_rolling_7d_mean',\n",
       " 'product_ad_spend_rolling_7d_mean',\n",
       " 'shop_ad_spend_rolling_7d_mean',\n",
       " 'auto_ad_spend_rolling_7d_mean',\n",
       " 'traffic_rolling_28d_mean',\n",
       " 'impressions_rolling_28d_mean',\n",
       " 'payment_rolling_28d_mean',\n",
       " 'revenue_rolling_28d_mean',\n",
       " 'product_ad_spend_rolling_28d_mean',\n",
       " 'shop_ad_spend_rolling_28d_mean',\n",
       " 'auto_ad_spend_rolling_28d_mean',\n",
       " 'cat_daily_avg_product_ad_spend',\n",
       " 'cat_daily_avg_traffic',\n",
       " 'cat_month_avg_product_ad_spend',\n",
       " 'cat_month_avg_traffic',\n",
       " 'cat_week_avg_product_ad_spend',\n",
       " 'cat_week_avg_traffic',\n",
       " 'continuous_zero_sales_days',\n",
       " 'zero_sales_rolling_mean_14d',\n",
       " 'zero_sales_rolling_max_14d',\n",
       " 'cat_rolling_avg_zero_sales_14d',\n",
       " 'cat_zero_sales_x_promotion',\n",
       " 'cat_rolling_avg_zero_sales_trend_14d',\n",
       " 'cat_rolling_avg_zero_sales_pct_change_14d',\n",
       " 'cat_rolling_avg_zero_sales_lag_7d',\n",
       " 'cat_rolling_avg_zero_sales_lag_14d',\n",
       " 'cat_rolling_avg_zero_sales_lag_28d',\n",
       " 'normalized_avg_price',\n",
       " 'normalized_promotion_price',\n",
       " 'ad_spend_during_promotion',\n",
       " 'weekend_ad_spend',\n",
       " 'CTR',\n",
       " 'product_category_0bbe7ba0e1b0beae145aa141da2b6caca25a914f9d035f8d413b56918df08910',\n",
       " 'product_category_23d41c24e652a32fd5d18a6688897cb3166eb2889f2d95e824b3aa0453606b48',\n",
       " 'product_category_26e4348177d45c95dd675a3ffd13dab05839b468be29b482d5102948ae7ea21a',\n",
       " 'product_category_48416ad62669743ff11739dcbd4b45b2d04b557556679f3a294acb6b18ed9297',\n",
       " 'product_category_499df1f5d710bd8c3427231d28ad058e3edb9bf67c821395875f7336aa615611',\n",
       " 'product_category_52a5b602827f33666b9acd0a90307144880accab1140ea8d9d80b2a46923923b',\n",
       " 'product_category_878f838a3361b3ae4c4ad23bcf4b7db2a5ba875bca2d8a27376f5496231b6dda',\n",
       " 'product_category_8803d81859a4b82b559b986c9e1714a2b253d1e642a724d32368d715e6279f46',\n",
       " 'product_category_8dc7c1d9fe82fbe4e2ecbf13528833a6c4012fe2fb16f51cf6e304467cf3681c',\n",
       " 'product_category_99716498af3e69f0968a784cdc050737c10c048095c6b1121716ff7fb4b53312',\n",
       " 'product_category_a2b53773f8e296aac1cdc45ca2e8ab4dfefff3e6c22111023c2268dd05cbc1ad',\n",
       " 'product_category_a44f96f2ae1f169df61a6ca60bda9010eeb3d754eaff98291d89a7d486a46905',\n",
       " 'product_category_b65693dffdf17ce4e3c151afdc0dea6902bc73ed47b0f3f5492caba052ea9aa9',\n",
       " 'product_category_cc90a048b637943aebc7d690b16cdaff69bbfdcaacd0737428856f44a15e80f9',\n",
       " 'product_category_d9e086cfdf636ef35f40669f8cb5206a768387adbd373163e6a4043c737a1d03',\n",
       " 'product_category_df382358a51f6b8574a64e3306fbe5054390d5797c23a97445eddd6605fd9608',\n",
       " 'product_category_eebd177641517d51b9ed8772f0cdea1acf79b86438e23bfb1c8006c1e6258431',\n",
       " 'product_category_f0993c5073ce50a2436df57cad90e1a0da9e76af16df0fd776a222b8eebcb434',\n",
       " 'product_category_f575e1ec32beef055e0bfcfe33625b06f92e89293878c834fd085d090572bd83',\n",
       " 'product_category_fada1c9427b6317c6f699436c31e2394132509fcc8524b73c31daa76ebcfac8e',\n",
       " 'brand_0c11971ede300e8f8c3b1ce00d14d47474c4ef0206a9fd9532bbb462ab06916b',\n",
       " 'brand_3f53b70d902574186420bdd8ee10d9abc52de070ab6714cff2b8ef7f2e6ace8c',\n",
       " 'brand_42b2cbc7017842d37d77fd5bd2854f399569336f90b3ba72fd557cf3e09d62ea',\n",
       " 'brand_493ec5389d58fa97c91baaca9006c30a06975ee1f90f109befd0fc1b6e54e32c',\n",
       " 'brand_4a2b15ab476a8e94171a52d534b2857b9db257b5c1972ec8c1887ef61e3f10ec',\n",
       " 'brand_4f691cf8af4335990a792962f5f7edeed916234dbe17b33054a626dd3c2f9346',\n",
       " 'brand_6ea2b3dc2767ac932d16533d5ff6d36fb04450856affd099c9e4174689159502',\n",
       " 'brand_7fc5e56ec97a6943a8e656a0b2480b92ed6bd25c8da6ec1775220ef925d79b7c',\n",
       " 'brand_9790404b8292703c09c830a5fd05b8f52ef2669122f2f80135cad80db34166f7',\n",
       " 'brand_a48f85211b0dbb2befe38a731cbaebc1f92d6903d19ef0572a7520951826cac6',\n",
       " 'brand_aceb811ec522ed6c03acbc842228de80ddf81b0d64ec1d7b0e85697ac4679135',\n",
       " 'brand_cc90a048b637943aebc7d690b16cdaff69bbfdcaacd0737428856f44a15e80f9',\n",
       " 'brand_fc3fa7251b340b8b3b11d31b0e916098289b2fe8a467f051f6a735496b4457d0',\n",
       " 'price_bin_cheap',\n",
       " 'price_bin_expensive',\n",
       " 'price_bin_luxury',\n",
       " 'price_bin_moderate',\n",
       " 'product_id_target_enc']"
      ]
     },
     "execution_count": 39,
     "metadata": {},
     "output_type": "execute_result"
    }
   ],
   "source": [
    "# Review all variables\n",
    "demand.columns.tolist()"
   ]
  },
  {
   "cell_type": "markdown",
   "metadata": {},
   "source": [
    "#### Exclude some variables out of features used for training:\n",
    "* Prevent data leakage: Ensure that information unavailable at prediction time is not included in the training process.\n",
    "* Avoid duplication: Eliminate redundant features that may skew the model's learning.\n",
    "* Align with learning objectives: Select features based on the specific goals of the model."
   ]
  },
  {
   "cell_type": "code",
   "execution_count": 40,
   "metadata": {},
   "outputs": [],
   "source": [
    "exclude_cols = ['conversion_rate', 'payment', 'revenue_rolling_28d_mean', 'revenue_rolling_7d_mean', 'revenue_lag_28', 'revenue_lag_3', 'd', 'wm_yr_wk', 'revenue']  # Adjust as needed\n",
    "features = [col for col in demand.columns if col not in exclude_cols]\n",
    "target = 'payment'"
   ]
  },
  {
   "cell_type": "markdown",
   "metadata": {},
   "source": [
    "## Cross-validation training"
   ]
  },
  {
   "cell_type": "code",
   "execution_count": 41,
   "metadata": {},
   "outputs": [
    {
     "name": "stdout",
     "output_type": "stream",
     "text": [
      "Train End: 2024-07, Validation Month: 2024-08, RMSE: 0.299\n",
      "Train End: 2024-08, Validation Month: 2024-09, RMSE: 0.226\n",
      "Train End: 2024-09, Validation Month: 2024-10, RMSE: 0.277\n",
      "\n",
      "Time-based CV Average RMSE: 0.267\n"
     ]
    }
   ],
   "source": [
    "# Helper function for creating CV folds while reserving time order\n",
    "def split_by_month(df, train_end_month, val_month, features, target):\n",
    "    train_end = pd.to_datetime(train_end_month + '-01') + pd.offsets.MonthEnd(1)\n",
    "    val_start = pd.to_datetime(val_month + '-01')\n",
    "    val_end = val_start + pd.offsets.MonthEnd(1)\n",
    "\n",
    "    train_df = df[df['date'] <= train_end]\n",
    "    val_df = df[(df['date'] >= val_start) & (df['date'] <= val_end)]\n",
    "\n",
    "    X_train = train_df[features]\n",
    "    y_train = train_df[target]\n",
    "    X_val = val_df[features]\n",
    "    y_val = val_df[target]\n",
    "\n",
    "    return X_train, y_train, X_val, y_val\n",
    "\n",
    "# ---- TIME-BASED CROSS-VALIDATION ----\n",
    "\n",
    "train_end_month_list = ['2024-07', '2024-08', '2024-09']\n",
    "val_month_list       = ['2024-08', '2024-09', '2024-10']\n",
    "\n",
    "cv_rmse_scores = []\n",
    "\n",
    "for train_end, val_month in zip(train_end_month_list, val_month_list):\n",
    "    X_train, y_train, X_val, y_val = split_by_month(demand, train_end, val_month, features, target)\n",
    "\n",
    "    # Convert to numeric/categorical/bool only, if needed\n",
    "    X_train = X_train.select_dtypes(include=[np.number, 'category', 'bool'])\n",
    "    X_val = X_val.select_dtypes(include=[np.number, 'category', 'bool'])\n",
    "\n",
    "    dtrain = xgb.DMatrix(X_train, label=y_train)\n",
    "    dval = xgb.DMatrix(X_val, label=y_val)\n",
    "\n",
    "    params = {\n",
    "        'objective': 'reg:squarederror',\n",
    "        'learning_rate': 0.1,\n",
    "        'max_depth': 6\n",
    "    }\n",
    "\n",
    "    # Training\n",
    "    model = xgb.train(\n",
    "        params=params,\n",
    "        dtrain=dtrain,\n",
    "        num_boost_round=1000,\n",
    "        evals=[(dval, 'eval')],\n",
    "        early_stopping_rounds=50,\n",
    "        verbose_eval=False\n",
    "    )\n",
    "\n",
    "    val_preds = model.predict(dval)\n",
    "    val_rmse = np.sqrt(np.mean((y_val - val_preds)**2))\n",
    "    cv_rmse_scores.append(val_rmse)\n",
    "\n",
    "    print(f\"Train End: {train_end}, Validation Month: {val_month}, RMSE: {val_rmse:.3f}\")\n",
    "\n",
    "avg_rmse = np.mean(cv_rmse_scores)\n",
    "print(f\"\\nTime-based CV Average RMSE: {avg_rmse:.3f}\")"
   ]
  },
  {
   "cell_type": "markdown",
   "metadata": {},
   "source": [
    "## Run model on test data: November data"
   ]
  },
  {
   "cell_type": "code",
   "execution_count": 42,
   "metadata": {},
   "outputs": [
    {
     "name": "stdout",
     "output_type": "stream",
     "text": [
      "November RMSE: 0.240\n"
     ]
    }
   ],
   "source": [
    "# Test set\n",
    "\n",
    "X_train, y_train, X_val, y_val = split_by_month(demand, '2024-10', '2024-11', features, target)\n",
    "X_train = X_train.select_dtypes(include=[np.number, 'category', 'bool'])\n",
    "X_val = X_val.select_dtypes(include=[np.number, 'category', 'bool'])\n",
    "\n",
    "# dtrain = xgb.DMatrix(X_train, label=y_train)\n",
    "dval = xgb.DMatrix(X_val, label=y_val) # Test set\n",
    "\n",
    "# Run prediction\n",
    "final_preds = model.predict(dval)\n",
    "\n",
    "## Evaluate November performance\n",
    "nov_rmse = np.sqrt(np.mean((y_val - final_preds)**2))\n",
    "print(f\"November RMSE: {nov_rmse:.3f}\")"
   ]
  },
  {
   "cell_type": "markdown",
   "metadata": {},
   "source": [
    "## Plot Prediction vs. Actual"
   ]
  },
  {
   "cell_type": "code",
   "execution_count": 43,
   "metadata": {},
   "outputs": [
    {
     "data": {
      "image/png": "[encoded data removed]",
      "text/plain": [
       "<Figure size 1000x500 with 1 Axes>"
      ]
     },
     "metadata": {},
     "output_type": "display_data"
    }
   ],
   "source": [
    "val_df = demand[(demand['date'] >= '2024-11-01') & (demand['date'] <= '2024-11-30')].copy()\n",
    "\n",
    "# Ensure val_df is sorted by date for a proper line plot\n",
    "val_df.sort_values(by='date', inplace=True)\n",
    "\n",
    "val_df['predicted_payment'] = final_preds\n",
    "\n",
    "# 1) Aggregate payments by date\n",
    "daily_agg = (\n",
    "    val_df\n",
    "    .groupby('date', as_index=False)\n",
    "    .agg({'payment': 'sum', 'predicted_payment': 'sum'})\n",
    "    .rename(columns={\n",
    "        'payment': 'actual_daily_payment',\n",
    "        'predicted_payment': 'predicted_daily_payment'\n",
    "    })\n",
    ")\n",
    "\n",
    "# 2) Ensure chronological order\n",
    "daily_agg.sort_values('date', inplace=True)\n",
    "\n",
    "# 3) Plot both series on the same line chart\n",
    "plt.figure(figsize=(10, 5))\n",
    "plt.plot(daily_agg['date'], daily_agg['actual_daily_payment'], marker='o', label='Actual Daily Payment')\n",
    "plt.plot(daily_agg['date'], daily_agg['predicted_daily_payment'], marker='x', label='Predicted Daily Payment')\n",
    "plt.xlabel('Date')\n",
    "plt.ylabel('Payment')\n",
    "plt.title('Daily Aggregated Payment: Actual vs. Predicted')\n",
    "plt.legend()\n",
    "plt.xticks(rotation=45)\n",
    "plt.tight_layout()\n",
    "plt.show()"
   ]
  },
  {
   "cell_type": "markdown",
   "metadata": {},
   "source": [
    "## Feature Importance"
   ]
  },
  {
   "cell_type": "code",
   "execution_count": 44,
   "metadata": {},
   "outputs": [
    {
     "data": {
      "image/png": "[encoded data removed]",
      "text/plain": [
       "<Figure size 640x480 with 1 Axes>"
      ]
     },
     "metadata": {},
     "output_type": "display_data"
    }
   ],
   "source": [
    "xgb.plot_importance(model, max_num_features=25)\n",
    "plt.title(\"Feature Importance\")\n",
    "plt.tight_layout()\n",
    "plt.show()"
   ]
  },
  {
   "cell_type": "markdown",
   "metadata": {},
   "source": [
    "### Save the model to a file"
   ]
  },
  {
   "cell_type": "code",
   "execution_count": 45,
   "metadata": {},
   "outputs": [],
   "source": [
    "model.save_model('ecom_pred_xgboost_model.json')\n",
    "\n",
    "# Later, you can load it back like this:\n",
    "# loaded_model = xgb.Booster()\n",
    "# loaded_model.load_model('xgboost_model.json')"
   ]
  },
  {
   "cell_type": "markdown",
   "metadata": {},
   "source": [
    "## Hyperparameter fine-tuning\n",
    "TBU"
   ]
  }
 ],
 "metadata": {
  "kernelspec": {
   "display_name": "Python 3",
   "language": "python",
   "name": "python3"
  },
  "language_info": {
   "codemirror_mode": {
    "name": "ipython",
    "version": 3
   },
   "file_extension": ".py",
   "mimetype": "text/x-python",
   "name": "python",
   "nbconvert_exporter": "python",
   "pygments_lexer": "ipython3",
   "version": "3.12.6"
  }
 },
 "nbformat": 4,
 "nbformat_minor": 2
}
